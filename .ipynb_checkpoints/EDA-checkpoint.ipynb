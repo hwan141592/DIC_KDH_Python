{
 "cells": [
  {
   "cell_type": "code",
   "execution_count": 1,
   "metadata": {},
   "outputs": [],
   "source": [
    "def missing_values_table(df) :  \n",
    "    \n",
    "    mis_val_each_col_cnt = df.isnull().sum()  \n",
    "    mis_val_each_col_percent = 100 * df.isnull().sum() / len(df) \n",
    "    mis_val_tot_cnt = mis_val_each_col_cnt.sum()  \n",
    "\n",
    "    if mis_val_tot_cnt==0 :  \n",
    "        print('[**NOTE**] There is no missing value in this dataframe.')  \n",
    "    else :         \n",
    "        missing_val_table = pd.concat([mis_val_each_col_cnt, mis_val_each_col_percent], axis=1) \n",
    "        mis_val_table = missing_val_table.rename(columns={0:'Missing_Counts', 1:'Missing_Percent'}) \n",
    "        \n",
    "\n",
    "        ############################## choose 1 among 3 options below ##############################\n",
    "        \n",
    "        #(option 1) show columns that have one or more missing values & sorting by the number of Missing values \n",
    "        #mis_val_table = mis_val_table[mis_val_table.iloc[:,1]!=0].sort_values('Missing_Percent', ascending=False).round(2) \n",
    "       \n",
    "        #(option 2) show columns that have one or more missing values & sorting by original columns order\n",
    "        mis_val_table = mis_val_table[mis_val_table.iloc[:,1]!=0].round(2)   \n",
    "        \n",
    "        #(option 3) show all columns & sorting by original columns order\n",
    "        #mis_val_table = mis_val_table.round(2)\n",
    "\n",
    "        ############################################################################################\n",
    "        \n",
    "        mis_val_table['Missing_Percent'] = mis_val_table[\"Missing_Percent\"].apply(lambda x : str(str(x)+'%'))        \n",
    "\n",
    "        print(\"This dataframe has\", str(df.shape[1]), \"columns.\", \"\\n\" + \n",
    "              \"There is(are)\", str(mis_val_table[mis_val_table['Missing_Counts']!=0].shape[0]),\n",
    "              \"column(s) that have missing values.\")  \n",
    "        \n",
    "        return mis_val_table"
   ]
  },
  {
   "cell_type": "code",
   "execution_count": null,
   "metadata": {},
   "outputs": [],
   "source": []
  }
 ],
 "metadata": {
  "kernelspec": {
   "display_name": "Python 3",
   "language": "python",
   "name": "python3"
  },
  "language_info": {
   "codemirror_mode": {
    "name": "ipython",
    "version": 3
   },
   "file_extension": ".py",
   "mimetype": "text/x-python",
   "name": "python",
   "nbconvert_exporter": "python",
   "pygments_lexer": "ipython3",
   "version": "3.7.0"
  }
 },
 "nbformat": 4,
 "nbformat_minor": 2
}
